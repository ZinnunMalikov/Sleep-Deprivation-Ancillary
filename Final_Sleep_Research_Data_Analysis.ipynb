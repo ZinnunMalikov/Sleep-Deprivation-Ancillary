{
  "nbformat": 4,
  "nbformat_minor": 0,
  "metadata": {
    "colab": {
      "name": "Final Sleep Research Data Analysis",
      "provenance": [],
      "collapsed_sections": [],
      "authorship_tag": "ABX9TyMcvyqbog8KAOR+/vcPjlqG",
      "include_colab_link": true
    },
    "kernelspec": {
      "name": "python3",
      "display_name": "Python 3"
    },
    "language_info": {
      "name": "python"
    }
  },
  "cells": [
    {
      "cell_type": "markdown",
      "metadata": {
        "id": "view-in-github",
        "colab_type": "text"
      },
      "source": [
        "<a href=\"https://colab.research.google.com/github/ZinnunMalikov/Sleep-Deprivation-Ancillary/blob/main/Final_Sleep_Research_Data_Analysis.ipynb\" target=\"_parent\"><img src=\"https://colab.research.google.com/assets/colab-badge.svg\" alt=\"Open In Colab\"/></a>"
      ]
    },
    {
      "cell_type": "code",
      "execution_count": 92,
      "metadata": {
        "colab": {
          "resources": {
            "http://localhost:8080/nbextensions/google.colab/files.js": {
              "data": "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",
              "ok": true,
              "headers": [
                [
                  "content-type",
                  "application/javascript"
                ]
              ],
              "status": 200,
              "status_text": ""
            }
          },
          "base_uri": "https://localhost:8080/",
          "height": 73
        },
        "id": "jSSEIBoZn3fN",
        "outputId": "c77afe2d-b9df-46f2-9746-2d930daa056d"
      },
      "outputs": [
        {
          "output_type": "display_data",
          "data": {
            "text/plain": [
              "<IPython.core.display.HTML object>"
            ],
            "text/html": [
              "\n",
              "     <input type=\"file\" id=\"files-50da0402-9ef6-4843-a379-5c74099b4811\" name=\"files[]\" multiple disabled\n",
              "        style=\"border:none\" />\n",
              "     <output id=\"result-50da0402-9ef6-4843-a379-5c74099b4811\">\n",
              "      Upload widget is only available when the cell has been executed in the\n",
              "      current browser session. Please rerun this cell to enable.\n",
              "      </output>\n",
              "      <script src=\"/nbextensions/google.colab/files.js\"></script> "
            ]
          },
          "metadata": {}
        },
        {
          "output_type": "stream",
          "name": "stdout",
          "text": [
            "Saving 2015data.csv to 2015data (5).csv\n"
          ]
        }
      ],
      "source": [
        "#Open The Link Below for a Full View:\n",
        "#https://github.com/ZinnunMalikov/Sleep-Deprivation-Ancillary/blob/gh-pages/ancillary.md\n",
        "\n",
        "from google.colab import files\n",
        "uploaded = files.upload()"
      ]
    },
    {
      "cell_type": "code",
      "source": [
        "import copy\n",
        "\n",
        "#Create Standard Dev\n",
        "def stan_dev(inp):\n",
        "  mean = sum(inp)/len(inp)\n",
        "  vari = 0\n",
        "  for a in range(len(inp)):\n",
        "    vari = vari + (1/(len(inp)-1))*(inp[a]-mean)*(inp[a]-mean)\n",
        "  return(vari**0.5)\n",
        "\n",
        "#Regression Function\n",
        "def reg(inp1, inp2):\n",
        "  mean1 = sum(inp1)/len(inp1)\n",
        "  mean2 = sum(inp2)/len(inp2)\n",
        "  vari1 = 0\n",
        "  vari2 = 0\n",
        "  for a in range(len(inp1)):\n",
        "    vari1 = vari1 + (1/(len(inp1)-1))*(inp1[a]-mean1)*(inp1[a]-mean1)\n",
        "\n",
        "  for a in range(len(inp1)):\n",
        "    vari2 = vari2 + (1/(len(inp2)-1))*(inp2[a]-mean2)*(inp2[a]-mean2)\n",
        "\n",
        "  std1 = vari1**0.5\n",
        "  std2 = vari2**0.5\n",
        "\n",
        "  r = 0\n",
        "  for a in range(len(inp1)):\n",
        "    r = r + (1/(len(inp1)-1))*(inp1[a]-mean1)*(inp2[a]-mean2)/(std1*std2)\n",
        "  \n",
        "  B = r*std2/std1\n",
        "  A = mean2-mean1*B\n",
        "\n",
        "  return [std1, std2, r, A, B]\n",
        "\n",
        "#Five Number Summary\n",
        "def five_sum(inp_li1):\n",
        "  inp_li = copy.deepcopy(inp_li1)\n",
        "  inp_li.sort()\n",
        "  dnum = len(inp_li)\n",
        "\n",
        "  if len(inp_li) % 2 == 1:\n",
        "      median = inp_li[int((dnum + 1)/2 - 1)]\n",
        "      lh = inp_li[0:int((dnum + 1)/2 - 1)]\n",
        "      uh = inp_li[int((dnum+1)/2):]\n",
        "  else:\n",
        "      median = (inp_li[int(dnum/2) - 1] + inp_li[int(dnum/2)])/2\n",
        "      lh = inp_li[0: int(dnum/2)]\n",
        "      uh = inp_li[int(dnum/2):]\n",
        "\n",
        "\n",
        "  if len(lh) % 2 == 1:\n",
        "      q1 = lh[int((len(lh) + 1)/2 - 1)]\n",
        "  else:\n",
        "      q1 = (lh[int(len(lh)/2 - 1)] + lh[int(len(lh)/2)])/2\n",
        "\n",
        "  if len(uh) % 2 == 1:\n",
        "      q3 = uh[int((len(uh) + 1)/2 - 1)]\n",
        "  else:\n",
        "      q3 = (uh[int(len(uh)/2 - 1)] + uh[int(len(uh)/2)])/2\n",
        "\n",
        "  iqr = q3 - q1\n",
        "  return([min(inp_li), q1, median, q3, max(inp_li)])\n",
        "\n",
        "#data fixing\n",
        "def isNaN(ni):\n",
        "  return ni != ni\n"
      ],
      "metadata": {
        "id": "LnCKz8N_Zykf"
      },
      "execution_count": 93,
      "outputs": []
    },
    {
      "cell_type": "code",
      "source": [
        "import io\n",
        "import numpy as np\n",
        "import pandas as pd\n",
        "\n",
        "#Convert raw data to a usable dataframe array\n",
        "df_sleep = pd.read_csv(io.BytesIO(uploaded['2015data.csv']))\n",
        "array_sleep = df_sleep.to_numpy()"
      ],
      "metadata": {
        "id": "b6lrAtgloQjj"
      },
      "execution_count": 94,
      "outputs": []
    },
    {
      "cell_type": "code",
      "source": [
        "#Create a list of average sleep\n",
        "avg_weekdays = array_sleep[:, 39]\n",
        "avg_weekends = array_sleep[:, 40]\n",
        "\n",
        "for a in range(len(avg_weekdays)):\n",
        "  if isNaN(avg_weekdays[a]) == True:\n",
        "    avg_weekdays[a] = 411.45\n",
        "  if isNaN(avg_weekends[a]) == True:\n",
        "    avg_weekends[a] = 449.9\n",
        "    \n",
        "avg_total = list(np.add(avg_weekdays*5/(60*7), avg_weekends*2/(60*7)))\n",
        "#print(avg_total)\n"
      ],
      "metadata": {
        "id": "Cw40-BZTo2CK"
      },
      "execution_count": 95,
      "outputs": []
    },
    {
      "cell_type": "code",
      "source": [
        "import matplotlib.pyplot as plt\n",
        "import math\n",
        "\n",
        "#Make data\n",
        "x = avg_total\n",
        "\n",
        "#Limits\n",
        "xlow = min(avg_total)\n",
        "xhigh = max(avg_total)\n",
        "\n",
        "#Plot:\n",
        "fig, ax = plt.subplots()\n",
        "\n",
        "ax.hist(x, bins=32, linewidth=0.5, edgecolor=\"white\")\n",
        "\n",
        "ax.set(xlim=(0, xhigh))\n",
        "\n",
        "plt.title(\"Distrbution of the Average Sleep Times of 1029 Individuals (2015)\")\n",
        "plt.xlabel(\"Hours\")\n",
        "plt.ylabel(\"Frequency\")\n",
        "print(five_sum(avg_total))\n",
        "print(\"Standard Deviation: \" + str(stan_dev(avg_total)))\n",
        "plt.show()"
      ],
      "metadata": {
        "colab": {
          "base_uri": "https://localhost:8080/",
          "height": 330
        },
        "id": "Cp6dj8v4NsI9",
        "outputId": "2800081e-75e3-4dde-9aa0-6440a5ef08d0"
      },
      "execution_count": 96,
      "outputs": [
        {
          "output_type": "stream",
          "name": "stdout",
          "text": [
            "[1.5357142857142858, 6.285714285714286, 7.0, 7.928571428571429, 12.75]\n",
            "Standard Deviation: 1.2593518283610086\n"
          ]
        },
        {
          "output_type": "display_data",
          "data": {
            "text/plain": [
              "<Figure size 432x288 with 1 Axes>"
            ],
            "image/png": "[encoded data removed]"
          },
          "metadata": {
            "needs_background": "light"
          }
        }
      ]
    },
    {
      "cell_type": "code",
      "source": [
        "#Proportion of those who slept: (<6), (6-7), (7, 8), (8+) hours\n",
        "p1 = 0\n",
        "p2 = 0\n",
        "p3 = 0\n",
        "p4 = 0\n",
        "for num in avg_total:\n",
        "  if num < 6:\n",
        "    p1 += 1\n",
        "  elif num < 7:\n",
        "    p2 += 1\n",
        "  elif num < 8:\n",
        "    p3 += 1\n",
        "  else:\n",
        "    p4 += 1\n",
        "\n",
        "#Narrow Pie Chart\n",
        "labels = [\"<6 hours\", \"6-7 hours\", \"7-8 hours\", \"8+ hours\"]\n",
        "sizes = [p1, p2, p3, p4]\n",
        "explode=[0,0,0,0]\n",
        "\n",
        "plt.pie(sizes, autopct='%1.0f%%', explode=explode,labels=labels,shadow=True,startangle=90, )\n",
        "plt.axis(\"equal\")\n",
        "plt.legend(title=\"Categorical Distribution of Sleep Time from 2015 Survey\", loc = 'best')\n",
        "plt.subplots_adjust(left=0.2, bottom=0.1, right=2.5)\n",
        "plt.show()"
      ],
      "metadata": {
        "colab": {
          "base_uri": "https://localhost:8080/",
          "height": 256
        },
        "id": "WPheYjL7RPZ2",
        "outputId": "bfa1bbd1-82d8-41ab-9c1d-435ca2efaf0d"
      },
      "execution_count": 97,
      "outputs": [
        {
          "output_type": "display_data",
          "data": {
            "text/plain": [
              "<Figure size 432x288 with 1 Axes>"
            ],
            "image/png": "[encoded data removed]"
          },
          "metadata": {}
        }
      ]
    },
    {
      "cell_type": "code",
      "source": [
        "#Broad Pie Chart\n",
        "labels = [\"<7 hours\", \"7+ hours\"]\n",
        "sizes = [p1+p2, p3+p4]\n",
        "explode=[0,0]\n",
        "\n",
        "plt.pie(sizes, autopct='%1.0f%%', explode=explode,labels=labels,shadow=True,startangle=90, )\n",
        "plt.axis(\"equal\")\n",
        "plt.legend(title=\"Categorical Distribution of Sleep Times from 2015 Survey\", loc = 'best')\n",
        "plt.subplots_adjust(left=0.2, bottom=0.1, right=2.5)\n",
        "plt.show()"
      ],
      "metadata": {
        "colab": {
          "base_uri": "https://localhost:8080/",
          "height": 256
        },
        "id": "iBgmMnIrVD6r",
        "outputId": "9d19d9b0-b9af-47cc-aaf1-3d5a68bd02cb"
      },
      "execution_count": 98,
      "outputs": [
        {
          "output_type": "display_data",
          "data": {
            "text/plain": [
              "<Figure size 432x288 with 1 Axes>"
            ],
            "image/png": "[encoded data removed]"
          },
          "metadata": {}
        }
      ]
    },
    {
      "cell_type": "code",
      "source": [
        "#Relationship between sleep duration and sleep quality\n",
        "sleep_quality = array_sleep[:, 61]\n",
        "sleep_quality = list(sleep_quality)\n",
        "\n",
        "avg1 = []\n",
        "avg2 = []\n",
        "avg3 = []\n",
        "avg4 = []\n",
        "avg5 = []\n",
        "\n",
        "for a in range(len(sleep_quality)):\n",
        "  if sleep_quality[a] == 1:\n",
        "    avg1.append(avg_total[a])\n",
        "  if sleep_quality[a] == 2:\n",
        "    avg2.append(avg_total[a])\n",
        "  if sleep_quality[a] == 3:\n",
        "    avg3.append(avg_total[a])\n",
        "  if sleep_quality[a] == 4:\n",
        "    avg4.append(avg_total[a])\n",
        "  if sleep_quality[a] == 5:\n",
        "    avg5.append(avg_total[a])\n",
        "\n",
        "#Quantitative v. Categorical\n",
        "\n",
        "# make data:\n",
        "D = np.array([avg1, avg2, avg3, avg4, avg5], dtype=object)\n",
        "labels = [\"1\", \"2\", \"3\", \"4\", \"5\"]\n",
        "\n",
        "# plot\n",
        "fig, ax = plt.subplots()\n",
        "VP = ax.boxplot(D, labels = labels, positions=[2, 4, 6, 8, 10], widths=1.5, patch_artist=True,\n",
        "                showmeans=False, showfliers=False,\n",
        "                medianprops={\"color\": \"white\", \"linewidth\": 0.5},\n",
        "                boxprops={\"facecolor\": \"C1\", \"edgecolor\": \"white\",\n",
        "                          \"linewidth\": 0.5},\n",
        "                whiskerprops={\"color\": \"C1\", \"linewidth\": 1.5},\n",
        "                capprops={\"color\": \"C1\", \"linewidth\": 1.5})\n",
        "plt.xlabel(\"Sleep Quality Score (1-5)\")\n",
        "plt.ylabel(\"Sleep Time (hrs)\")\n",
        "plt.title(\"Distribution of Sleep Duration (hrs) for Varying Sleep Quality Scores (1-5) of 1029 Individuals (2015)\")\n",
        "\n",
        "plt.show()\n"
      ],
      "metadata": {
        "colab": {
          "base_uri": "https://localhost:8080/",
          "height": 295
        },
        "id": "ghRag3onVmIl",
        "outputId": "35cacb0f-bd19-46b6-fe58-12c6dfc00c32"
      },
      "execution_count": 99,
      "outputs": [
        {
          "output_type": "display_data",
          "data": {
            "text/plain": [
              "<Figure size 432x288 with 1 Axes>"
            ],
            "image/png": "[encoded data removed]"
          },
          "metadata": {
            "needs_background": "light"
          }
        }
      ]
    },
    {
      "cell_type": "code",
      "source": [
        "#Chi Squared Test for Independence\n",
        "\n",
        "#Observed Counts\n",
        "r1c1 = []\n",
        "r1c2 = []\n",
        "r1c3 = []\n",
        "r1c4 = []\n",
        "r1c5 = []\n",
        "\n",
        "r2c1 = []\n",
        "r2c2 = []\n",
        "r2c3 = []\n",
        "r2c4 = []\n",
        "r2c5 = []\n",
        "\n",
        "r3c1 = []\n",
        "r3c2 = []\n",
        "r3c3 = []\n",
        "r3c4 = []\n",
        "r3c5 = []\n",
        "\n",
        "r4c1 = []\n",
        "r4c2 = []\n",
        "r4c3 = []\n",
        "r4c4 = []\n",
        "r4c5 = []\n",
        "\n",
        "row1 = [r1c1, r1c2, r1c3, r1c4, r1c5]\n",
        "row2 = [r2c1, r2c2, r2c3, r2c4, r2c5]\n",
        "row3 = [r3c1, r3c2, r3c3, r3c4, r3c5]\n",
        "row4 = [r4c1, r4c2, r4c3, r4c4, r4c5]\n",
        "\n",
        "for a in range(len(avg_total)):\n",
        "  for b in range(len(row1)):\n",
        "    if avg_total[a] < 6 and sleep_quality[a] == b+1:\n",
        "      row1[b].append(a)\n",
        "    if 6 <= avg_total[a] < 7 and sleep_quality[a] == b+1:\n",
        "      row2[b].append(a)\n",
        "    if 7 <= avg_total[a] < 8 and sleep_quality[a] == b+1:\n",
        "      row3[b].append(a)\n",
        "    if 8 <= avg_total[a] and sleep_quality[a] == b+1:\n",
        "      row4[b].append(a)\n",
        "\n",
        "for a in range(len(row1)):\n",
        "  row1[a] = len(row1[a])\n",
        "  row2[a] = len(row2[a])\n",
        "  row3[a] = len(row3[a])\n",
        "  row4[a] = len(row4[a])\n",
        "\n",
        "two_way_tab = np.array([row1, row2, row3, row4])\n",
        "\n",
        "row_sums = np.array([[sum(row1)], [sum(row2)], [sum(row3)], [sum(row4)], [1029]])\n",
        "\n",
        "column_sums = np.array([np.add(np.add(np.add(np.array(row1), np.array(row2)), np.array(row3)), np.array(row4))])\n",
        "two_way_tab = np.append(two_way_tab, column_sums, axis=0)\n",
        "two_way_tab = np.append(two_way_tab, row_sums, axis=1)\n",
        "\n",
        "two_way_df = pd.DataFrame(two_way_tab)\n",
        "two_way_df.columns = [\"1\", \"2\", \"3\", \"4\", \"5\", \"Total\"]\n",
        "two_way_df.index = [\"<6 hrs\", \"6-7 hrs\", \"7-8 hrs\", \"8+ hours\", \"Total\"]\n",
        "\n",
        "print(\"Observed Counts for Relative Frequency of Sleep Quality (1-5) vs. Sleep Time (hrs)\")\n",
        "print(two_way_df)\n",
        "\n",
        "#Expected Counts\n",
        "two_way_tab2 = np.empty((4, 5), float)\n",
        "\n",
        "row_sums_list = [sum(row1), sum(row2), sum(row3), sum(row4)]\n",
        "column_sums_list = list(two_way_tab[4, 0:5])\n",
        "\n",
        "for a in range(len(row_sums_list)):\n",
        "  for b in range(len(column_sums_list)):\n",
        "    two_way_tab2[a, b] = float(two_way_tab2[a, b])\n",
        "    two_way_tab2[a, b] = np.around(float(row_sums_list[a]*column_sums_list[b]/1029), 3)\n",
        "\n",
        "two_way_tab2 = np.append(two_way_tab2, column_sums, axis=0)\n",
        "two_way_tab2 = np.append(two_way_tab2, row_sums, axis=1)\n",
        "\n",
        "two_way_dfE = pd.DataFrame(two_way_tab2)\n",
        "two_way_dfE.columns = [\"1\", \"2\", \"3\", \"4\", \"5\", \"Total\"]\n",
        "two_way_dfE.index = [\"<6 hrs\", \"6-7 hrs\", \"7-8 hrs\", \"8+ hours\", \"Total\"]\n",
        "\n",
        "print(\"\")\n",
        "print(\"Expected Counts for Relative Frequency of Sleep Quality (1-5) vs. Sleep Time (hrs)\")\n",
        "print(two_way_dfE)"
      ],
      "metadata": {
        "colab": {
          "base_uri": "https://localhost:8080/"
        },
        "id": "qHEgKOXColcm",
        "outputId": "eabae094-d5a5-4704-eb42-e98faf1edebd"
      },
      "execution_count": 100,
      "outputs": [
        {
          "output_type": "stream",
          "name": "stdout",
          "text": [
            "Observed Counts for Relative Frequency of Sleep Quality (1-5) vs. Sleep Time (hrs)\n",
            "           1   2    3    4    5  Total\n",
            "<6 hrs    20  39   61   26   11    157\n",
            "6-7 hrs    4  24  125   92   13    258\n",
            "7-8 hrs    1  20  120  170   53    364\n",
            "8+ hours   4   8   52  118   68    250\n",
            "Total     29  91  358  406  145   1029\n",
            "\n",
            "Expected Counts for Relative Frequency of Sleep Quality (1-5) vs. Sleep Time (hrs)\n",
            "               1       2        3        4        5   Total\n",
            "<6 hrs     4.425  13.884   54.622   61.946   22.123   157.0\n",
            "6-7 hrs    7.271  22.816   89.761  101.796   36.356   258.0\n",
            "7-8 hrs   10.259  32.190  126.639  143.619   51.293   364.0\n",
            "8+ hours   7.046  22.109   86.978   98.639   35.228   250.0\n",
            "Total     29.000  91.000  358.000  406.000  145.000  1029.0\n"
          ]
        }
      ]
    },
    {
      "cell_type": "code",
      "source": [
        "#Chi Squared Test Statistic\n",
        "#Note: One out of the twenty (5%) expected counts are under 5. However, for general purposes, the chi quared test can be continued\n",
        "\n",
        "row_num, col_num = two_way_tab2.shape\n",
        "\n",
        "chi_sq_stat = 0\n",
        "for a in range(row_num - 1):\n",
        "  for b in range(col_num - 1):\n",
        "    partial = ((two_way_tab[a, b] - two_way_tab2[a, b])**2)/two_way_tab2[a, b]\n",
        "    chi_sq_stat += partial\n",
        "\n",
        "print(\"The chi-squared statistic for this test is: \" + str(chi_sq_stat))"
      ],
      "metadata": {
        "colab": {
          "base_uri": "https://localhost:8080/"
        },
        "id": "j6PZGvrXsDCg",
        "outputId": "9614860f-abbe-4dbe-c2da-4678fd0eb6a2"
      },
      "execution_count": 101,
      "outputs": [
        {
          "output_type": "stream",
          "name": "stdout",
          "text": [
            "The chi-squared statistic for this test is: 235.6631248649211\n"
          ]
        }
      ]
    },
    {
      "cell_type": "code",
      "source": [
        "#Relationship Between Light Exposure (1-5) and Sleep Time (hrs)\n",
        "light_exp = array_sleep[:, 98]\n",
        "light_exp = list(light_exp)\n",
        "\n",
        "lig1 = []\n",
        "lig2 = []\n",
        "lig3 = []\n",
        "lig4 = []\n",
        "lig5 = []\n",
        "\n",
        "for a in range(len(light_exp)):\n",
        "  if light_exp[a] == 1:\n",
        "    lig1.append(avg_total[a])\n",
        "  if light_exp[a] == 2:\n",
        "    lig2.append(avg_total[a])\n",
        "  if light_exp[a] == 3:\n",
        "    lig3.append(avg_total[a])\n",
        "  if light_exp[a] == 4:\n",
        "    lig4.append(avg_total[a])\n",
        "  if light_exp[a] == 5:\n",
        "    lig5.append(avg_total[a])\n",
        "\n",
        "#Quantitative v. Categorical\n",
        "\n",
        "# make data:\n",
        "D = np.array([lig1, lig2, lig3, lig4, lig5], dtype=object)\n",
        "labels = [\"1\", \"2\", \"3\", \"4\", \"5\"]\n",
        "\n",
        "# plot\n",
        "fig, ax = plt.subplots()\n",
        "VP = ax.boxplot(D, labels = labels, positions=[2, 4, 6, 8, 10], widths=1.5, patch_artist=True,\n",
        "                showmeans=False, showfliers=False,\n",
        "                medianprops={\"color\": \"white\", \"linewidth\": 0.5},\n",
        "                boxprops={\"facecolor\": \"C1\", \"edgecolor\": \"white\",\n",
        "                          \"linewidth\": 0.5},\n",
        "                whiskerprops={\"color\": \"C1\", \"linewidth\": 1.5},\n",
        "                capprops={\"color\": \"C1\", \"linewidth\": 1.5})\n",
        "plt.xlabel(\"External Light Exposure (1-5)\")\n",
        "plt.ylabel(\"Sleep Time(hrs)\")\n",
        "plt.title(\"Distribution of Sleep Duration (hrs) for Varying Exposure to External Light (1-5) of 1029 Individuals (2015)\")\n",
        "plt.show()"
      ],
      "metadata": {
        "colab": {
          "base_uri": "https://localhost:8080/",
          "height": 295
        },
        "id": "LBkjXhpE78Wv",
        "outputId": "2e186e28-d03e-4a3f-d603-9299673bbb2b"
      },
      "execution_count": 102,
      "outputs": [
        {
          "output_type": "display_data",
          "data": {
            "text/plain": [
              "<Figure size 432x288 with 1 Axes>"
            ],
            "image/png": "[encoded data removed]"
          },
          "metadata": {
            "needs_background": "light"
          }
        }
      ]
    },
    {
      "cell_type": "code",
      "source": [
        "#Chi-Squared Test for Independence\n",
        "#Observed Counts\n",
        "for a in range(len(light_exp)):\n",
        "  if isNaN(light_exp[a]) == True:\n",
        "    light_exp[a] = 2\n",
        "\n",
        "r1c1 = []\n",
        "r1c2 = []\n",
        "r1c3 = []\n",
        "r1c4 = []\n",
        "r1c5 = []\n",
        "\n",
        "r2c1 = []\n",
        "r2c2 = []\n",
        "r2c3 = []\n",
        "r2c4 = []\n",
        "r2c5 = []\n",
        "\n",
        "r3c1 = []\n",
        "r3c2 = []\n",
        "r3c3 = []\n",
        "r3c4 = []\n",
        "r3c5 = []\n",
        "\n",
        "r4c1 = []\n",
        "r4c2 = []\n",
        "r4c3 = []\n",
        "r4c4 = []\n",
        "r4c5 = []\n",
        "\n",
        "row1 = [r1c1, r1c2, r1c3, r1c4, r1c5]\n",
        "row2 = [r2c1, r2c2, r2c3, r2c4, r2c5]\n",
        "row3 = [r3c1, r3c2, r3c3, r3c4, r3c5]\n",
        "row4 = [r4c1, r4c2, r4c3, r4c4, r4c5]\n",
        "\n",
        "for a in range(len(avg_total)):\n",
        "  for b in range(len(row1)):\n",
        "    if avg_total[a] < 6 and light_exp[a] == b+1:\n",
        "      row1[b].append(a)\n",
        "    if 6 <= avg_total[a] < 7 and light_exp[a] == b+1:\n",
        "      row2[b].append(a)\n",
        "    if 7 <= avg_total[a] < 8 and light_exp[a] == b+1:\n",
        "      row3[b].append(a)\n",
        "    if 8 <= avg_total[a] and light_exp[a] == b+1:\n",
        "      row4[b].append(a)\n",
        "\n",
        "for a in range(len(row1)):\n",
        "  row1[a] = len(row1[a])\n",
        "  row2[a] = len(row2[a])\n",
        "  row3[a] = len(row3[a])\n",
        "  row4[a] = len(row4[a])\n",
        "\n",
        "two_way_tab = np.array([row1, row2, row3, row4])\n",
        "\n",
        "row_sums = np.array([[sum(row1)], [sum(row2)], [sum(row3)], [sum(row4)], [1026]])\n",
        "\n",
        "column_sums = np.array([np.add(np.add(np.add(np.array(row1), np.array(row2)), np.array(row3)), np.array(row4))])\n",
        "two_way_tab = np.append(two_way_tab, column_sums, axis=0)\n",
        "two_way_tab = np.append(two_way_tab, row_sums, axis=1)\n",
        "\n",
        "two_way_df = pd.DataFrame(two_way_tab)\n",
        "two_way_df.columns = [\"1\", \"2\", \"3\", \"4\", \"5\", \"Total\"]\n",
        "two_way_df.index = [\"<6 hrs\", \"6-7 hrs\", \"7-8 hrs\", \"8+ hours\", \"Total\"]\n",
        "\n",
        "print(\"Observed Counts for Relative Frequency of External Light Exposure (1-5) vs. Sleep Time (hrs)\")\n",
        "print(two_way_df)\n",
        "\n",
        "#Expected Counts\n",
        "two_way_tab2 = np.empty((4, 5), float)\n",
        "\n",
        "row_sums_list = [sum(row1), sum(row2), sum(row3), sum(row4)]\n",
        "column_sums_list = list(two_way_tab[4, 0:5])\n",
        "\n",
        "for a in range(len(row_sums_list)):\n",
        "  for b in range(len(column_sums_list)):\n",
        "    two_way_tab2[a, b] = float(two_way_tab2[a, b])\n",
        "    two_way_tab2[a, b] = np.around(float(row_sums_list[a]*column_sums_list[b]/1026), 3)\n",
        "\n",
        "two_way_tab2 = np.append(two_way_tab2, column_sums, axis=0)\n",
        "two_way_tab2 = np.append(two_way_tab2, row_sums, axis=1)\n",
        "\n",
        "two_way_dfE = pd.DataFrame(two_way_tab2)\n",
        "two_way_dfE.columns = [\"1\", \"2\", \"3\", \"4\", \"5\", \"Total\"]\n",
        "two_way_dfE.index = [\"<6 hrs\", \"6-7 hrs\", \"7-8 hrs\", \"8+ hours\", \"Total\"]\n",
        "\n",
        "print(\"\")\n",
        "print(\"Expected Counts for Relative Frequency of Sleep Quality (1-5) vs. Sleep Time (hrs)\")\n",
        "print(two_way_dfE)"
      ],
      "metadata": {
        "colab": {
          "base_uri": "https://localhost:8080/"
        },
        "id": "V0Ue3X9jQ4az",
        "outputId": "aff5be16-3d4a-4349-eba1-ecb66eed512b"
      },
      "execution_count": 103,
      "outputs": [
        {
          "output_type": "stream",
          "name": "stdout",
          "text": [
            "Observed Counts for Relative Frequency of External Light Exposure (1-5) vs. Sleep Time (hrs)\n",
            "            1    2    3   4   5  Total\n",
            "<6 hrs     84   44   22   3   4    157\n",
            "6-7 hrs   136   75   34   7   6    258\n",
            "7-8 hrs   178  119   48  14   4    363\n",
            "8+ hours  124   89   32   3   0    248\n",
            "Total     522  327  136  27  14   1026\n",
            "\n",
            "Expected Counts for Relative Frequency of Sleep Quality (1-5) vs. Sleep Time (hrs)\n",
            "                1        2        3       4       5   Total\n",
            "<6 hrs     79.877   50.038   20.811   4.132   2.142   157.0\n",
            "6-7 hrs   131.263   82.228   34.199   6.789   3.520   258.0\n",
            "7-8 hrs   184.684  115.693   48.117   9.553   4.953   363.0\n",
            "8+ hours  126.175   79.041   32.873   6.526   3.384   248.0\n",
            "Total     522.000  327.000  136.000  27.000  14.000  1026.0\n"
          ]
        }
      ]
    },
    {
      "cell_type": "code",
      "source": [
        "#Chi Squared Test Statistic\n",
        "#Note: Four out of the twenty (20%) expected counts are under 5. For general purposes, the chi quared test will be continued, but we should be cautious of the results.\n",
        "\n",
        "row_num, col_num = two_way_tab2.shape\n",
        "\n",
        "chi_sq_stat = 0\n",
        "for a in range(row_num - 1):\n",
        "  for b in range(col_num - 1):\n",
        "    partial = ((two_way_tab[a, b] - two_way_tab2[a, b])**2)/two_way_tab2[a, b]\n",
        "    chi_sq_stat += partial\n",
        "\n",
        "print(\"The chi-squared statistic for this test is: \" + str(chi_sq_stat))"
      ],
      "metadata": {
        "colab": {
          "base_uri": "https://localhost:8080/"
        },
        "id": "uvDN1nzBY26G",
        "outputId": "75fd2a8c-cf41-4b46-8f16-b821a585c43f"
      },
      "execution_count": 104,
      "outputs": [
        {
          "output_type": "stream",
          "name": "stdout",
          "text": [
            "The chi-squared statistic for this test is: 14.687197372831275\n"
          ]
        }
      ]
    },
    {
      "cell_type": "code",
      "source": [
        "#Relationship Between Light Exposure and Sleep Quality\n",
        "mlig1 = []\n",
        "mlig2 = []\n",
        "mlig3 = []\n",
        "mlig4 = []\n",
        "mlig5 = []\n",
        "\n",
        "for a in range(len(light_exp)):\n",
        "  if light_exp[a] == 1:\n",
        "    mlig1.append(sleep_quality[a])\n",
        "  if light_exp[a] == 2:\n",
        "    mlig2.append(sleep_quality[a])\n",
        "  if light_exp[a] == 3:\n",
        "    mlig3.append(sleep_quality[a])\n",
        "  if light_exp[a] == 4:\n",
        "    mlig4.append(sleep_quality[a])\n",
        "  if light_exp[a] == 5:\n",
        "    mlig5.append(sleep_quality[a])\n",
        "\n",
        "mlig1_summary = []\n",
        "mlig2_summary = []\n",
        "mlig3_summary = []\n",
        "mlig4_summary = []\n",
        "mlig5_summary = []\n",
        "\n",
        "ml1s1, ml2s1, ml3s1, ml4s1, ml5s1 = 0, 0, 0, 0, 0\n",
        "ml1s2, ml2s2, ml3s2, ml4s2, ml5s2 = 0, 0, 0, 0, 0\n",
        "ml1s3, ml2s3, ml3s3, ml4s3, ml5s3 = 0, 0, 0, 0, 0\n",
        "ml1s4, ml2s4, ml3s4, ml4s4, ml5s4 = 0, 0, 0, 0, 0\n",
        "ml1s5, ml2s5, ml3s5, ml4s5, ml5s5 = 0, 0, 0, 0, 0\n",
        "\n",
        "for a in range(len(mlig1)):\n",
        "  if mlig1[a] == 1:\n",
        "    ml1s1 += 1/len(mlig1)\n",
        "  elif mlig1[a] == 2:\n",
        "    ml2s1 += 1/len(mlig1)\n",
        "  elif mlig1[a] == 3:\n",
        "    ml3s1 += 1/len(mlig1)\n",
        "  elif mlig1[a] == 4:\n",
        "    ml4s1 += 1/len(mlig1)\n",
        "  elif mlig1[a] == 5:\n",
        "    ml5s1 += 1/len(mlig1)\n",
        "\n",
        "for a in range(len(mlig2)):\n",
        "  if mlig2[a] == 1:\n",
        "    ml1s2 += 1/len(mlig2)\n",
        "  elif mlig2[a] == 2:\n",
        "    ml2s2 += 1/len(mlig2)\n",
        "  elif mlig2[a] == 3:\n",
        "    ml3s2 += 1/len(mlig2)\n",
        "  elif mlig2[a] == 4:\n",
        "    ml4s2 += 1/len(mlig2)\n",
        "  elif mlig2[a] == 5:\n",
        "    ml5s2 += 1/len(mlig2)\n",
        "\n",
        "for a in range(len(mlig3)):\n",
        "  if mlig3[a] == 1:\n",
        "    ml1s3 += 1/len(mlig3)\n",
        "  elif mlig3[a] == 2:\n",
        "    ml2s3 += 1/len(mlig3)\n",
        "  elif mlig3[a] == 3:\n",
        "    ml3s3 += 1/len(mlig3)\n",
        "  elif mlig3[a] == 4:\n",
        "    ml4s3 += 1/len(mlig3)\n",
        "  elif mlig3[a] == 5:\n",
        "    ml5s3 += 1/len(mlig3)\n",
        "\n",
        "for a in range(len(mlig4)):\n",
        "  if mlig4[a] == 1:\n",
        "    ml1s4 += 1/len(mlig4)\n",
        "  elif mlig4[a] == 2:\n",
        "    ml2s4 += 1/len(mlig4)\n",
        "  elif mlig4[a] == 3:\n",
        "    ml3s4 += 1/len(mlig4)\n",
        "  elif mlig4[a] == 4:\n",
        "    ml4s4 += 1/len(mlig4)\n",
        "  elif mlig4[a] == 5:\n",
        "    ml5s4 += 1/len(mlig4)\n",
        "\n",
        "for a in range(len(mlig5)):\n",
        "  if mlig5[a] == 1:\n",
        "    ml1s5 += 1/len(mlig5)\n",
        "  elif mlig5[a] == 2:\n",
        "    ml2s5 += 1/len(mlig5)\n",
        "  elif mlig5[a] == 3:\n",
        "    ml3s5 += 1/len(mlig5)\n",
        "  elif mlig5[a] == 4:\n",
        "    ml4s5 += 1/len(mlig5)\n",
        "  elif mlig5[a] == 5:\n",
        "    ml5s5 += 1/len(mlig5)\n",
        "\n",
        "#Categorical v. Categorical\n",
        "labels = ['1', '2', '3', '4', '5']\n",
        "\n",
        "g1 = [ml1s1, ml1s2, ml1s3, ml1s4, ml1s5]\n",
        "g2 = [ml2s1, ml2s2, ml2s3, ml2s4, ml2s5]\n",
        "g3 = [ml3s1, ml3s2, ml3s3, ml3s4, ml3s5]\n",
        "g4 = [ml4s1, ml4s2, ml4s3, ml4s4, ml4s5]\n",
        "g5 = [ml5s1, ml5s2, ml5s3, ml5s4, ml5s5]\n",
        "\n",
        "width = 0.35       # the width of the bars: can also be len(x) sequence\n",
        "\n",
        "fig, ax = plt.subplots()\n",
        "\n",
        "ax.bar(labels, g1, width)\n",
        "ax.bar(labels, g2, width, bottom = g1)\n",
        "ax.bar(labels, g3, width, bottom = list(np.array(g1)+np.array(g2)))\n",
        "ax.bar(labels, g4, width, bottom = list(np.array(g1)+np.array(g2)+np.array(g3)))\n",
        "ax.bar(labels, g5, width, bottom = list(np.array(g1)+np.array(g2)+np.array(g3)+np.array(g4)))\n",
        "\n",
        "ax.set_ylabel('Distribution of Sleep Quality Responses (1-5)')\n",
        "ax.set_xlabel('External Light Exposure (1-5)')\n",
        "ax.set_title('Distributions of Sleep Quality Responses (1-5) for Varying Levels of External Light Exposure (1-5)')\n",
        "\n",
        "print(\"Blue: Frequency of '1' responses\") \n",
        "print(\"Orange: Frequency of '2' responses\")\n",
        "print(\"Green: Frequency of '3' responses\") \n",
        "print(\"Red: Frequency of '4' responses\")\n",
        "print(\"Purple: Frequency of '5' responses\") \n",
        "print('')\n",
        "plt.show()\n",
        "\n",
        "\n"
      ],
      "metadata": {
        "colab": {
          "base_uri": "https://localhost:8080/",
          "height": 399
        },
        "id": "78_FcSWx-VFX",
        "outputId": "0a4813fb-7b58-4cad-e149-b47f5ffb6bca"
      },
      "execution_count": 105,
      "outputs": [
        {
          "output_type": "stream",
          "name": "stdout",
          "text": [
            "Blue: Frequency of '1' responses\n",
            "Orange: Frequency of '2' responses\n",
            "Green: Frequency of '3' responses\n",
            "Red: Frequency of '4' responses\n",
            "Purple: Frequency of '5' responses\n",
            "\n"
          ]
        },
        {
          "output_type": "display_data",
          "data": {
            "text/plain": [
              "<Figure size 432x288 with 1 Axes>"
            ],
            "image/png": "[encoded data removed]"
          },
          "metadata": {
            "needs_background": "light"
          }
        }
      ]
    },
    {
      "cell_type": "code",
      "source": [
        "#Chi Squared Test for Independence\n",
        "\n",
        "r1c1 = []\n",
        "r1c2 = []\n",
        "r1c3 = []\n",
        "r1c4 = []\n",
        "r1c5 = []\n",
        "\n",
        "r2c1 = []\n",
        "r2c2 = []\n",
        "r2c3 = []\n",
        "r2c4 = []\n",
        "r2c5 = []\n",
        "\n",
        "r3c1 = []\n",
        "r3c2 = []\n",
        "r3c3 = []\n",
        "r3c4 = []\n",
        "r3c5 = []\n",
        "\n",
        "r4c1 = []\n",
        "r4c2 = []\n",
        "r4c3 = []\n",
        "r4c4 = []\n",
        "r4c5 = []\n",
        "\n",
        "r5c1 = []\n",
        "r5c2 = []\n",
        "r5c3 = []\n",
        "r5c4 = []\n",
        "r5c5 = []\n",
        "\n",
        "row1 = [r1c1, r1c2, r1c3, r1c4, r1c5]\n",
        "row2 = [r2c1, r2c2, r2c3, r2c4, r2c5]\n",
        "row3 = [r3c1, r3c2, r3c3, r3c4, r3c5]\n",
        "row4 = [r4c1, r4c2, r4c3, r4c4, r4c5]\n",
        "row5 = [r5c1, r5c2, r5c3, r5c4, r5c5]\n",
        "\n",
        "for a in range(len(sleep_quality)):\n",
        "  for b in range(len(row1)):\n",
        "    if sleep_quality[a] == 1 and light_exp[a] == b+1:\n",
        "      row1[b].append(a)\n",
        "    if sleep_quality[a] == 2 and light_exp[a] == b+1:\n",
        "      row2[b].append(a)\n",
        "    if sleep_quality[a] == 3 and light_exp[a] == b+1:\n",
        "      row3[b].append(a)\n",
        "    if sleep_quality[a] == 4 and light_exp[a] == b+1:\n",
        "      row4[b].append(a)\n",
        "    if sleep_quality[a] == 5 and light_exp[a] == b+1:\n",
        "      row5[b].append(a)\n",
        "\n",
        "for a in range(len(row1)):\n",
        "  row1[a] = len(row1[a])\n",
        "  row2[a] = len(row2[a])\n",
        "  row3[a] = len(row3[a])\n",
        "  row4[a] = len(row4[a])\n",
        "  row5[a] = len(row5[a])\n",
        "\n",
        "two_way_tab = np.array([row1, row2, row3, row4, row5])\n",
        "\n",
        "row_sums = np.array([[sum(row1)], [sum(row2)], [sum(row3)], [sum(row4)], [sum(row5)], [1026]])\n",
        "\n",
        "column_sums = np.array([np.add(np.add(np.add(np.add(np.array(row1), np.array(row2)), np.array(row3)), np.array(row4)), np.array(row5))])\n",
        "two_way_tab = np.append(two_way_tab, column_sums, axis=0)\n",
        "two_way_tab = np.append(two_way_tab, row_sums, axis=1)\n",
        "\n",
        "two_way_df = pd.DataFrame(two_way_tab)\n",
        "two_way_df.columns = [\"L1\", \"L2\", \"L3\", \"L4\", \"L5\", \"Total\"]\n",
        "two_way_df.index = [\"1\", \"2\", \"3\", \"4\",\"5\", \"Total\"]\n",
        "\n",
        "print(\"Observed Counts for Relative Frequency of Sleep Quality (1-5) vs. External Light Exposure (1-5)\")\n",
        "print(two_way_df)\n",
        "\n",
        "#Expected Counts\n",
        "two_way_tab2 = np.empty((5, 5), float)\n",
        "\n",
        "row_sums_list = [sum(row1), sum(row2), sum(row3), sum(row4), sum(row5)]\n",
        "column_sums_list = list(two_way_tab[5, 0:5])\n",
        "\n",
        "for a in range(len(row_sums_list)):\n",
        "  for b in range(len(column_sums_list)):\n",
        "    two_way_tab2[a, b] = float(two_way_tab2[a, b])\n",
        "    two_way_tab2[a, b] = np.around(float(row_sums_list[a]*column_sums_list[b]/1026), 3)\n",
        "\n",
        "two_way_tab2 = np.append(two_way_tab2, column_sums, axis=0)\n",
        "two_way_tab2 = np.append(two_way_tab2, row_sums, axis=1)\n",
        "\n",
        "two_way_dfE = pd.DataFrame(two_way_tab2)\n",
        "two_way_dfE.columns = [\"L1\", \"L2\", \"L3\", \"L4\", \"L5\", \"Total\"]\n",
        "two_way_dfE.index = [\"1\", \"2\", \"3\", \"4\",\"5\", \"Total\"]\n",
        "\n",
        "print(\"\")\n",
        "print(\"Expected Counts for Relative Frequency of Sleep Quality (1-5) vs. External Light Exposure (1-5)\")\n",
        "print(two_way_dfE)\n"
      ],
      "metadata": {
        "colab": {
          "base_uri": "https://localhost:8080/"
        },
        "id": "QDk3joLpmfWN",
        "outputId": "df6079d6-e8e0-42d2-e925-48fd5d210fbe"
      },
      "execution_count": 106,
      "outputs": [
        {
          "output_type": "stream",
          "name": "stdout",
          "text": [
            "Observed Counts for Relative Frequency of Sleep Quality (1-5) vs. External Light Exposure (1-5)\n",
            "        L1   L2   L3  L4  L5  Total\n",
            "1       15    7    2   2   3     29\n",
            "2       44   32   11   1   3     91\n",
            "3      155  112   75   9   5    356\n",
            "4      211  136   43  14   2    406\n",
            "5       97   40    5   1   1    144\n",
            "Total  522  327  136  27  14   1026\n",
            "\n",
            "Expected Counts for Relative Frequency of Sleep Quality (1-5) vs. External Light Exposure (1-5)\n",
            "            L1       L2       L3      L4      L5   Total\n",
            "1       14.754    9.243    3.844   0.763   0.396    29.0\n",
            "2       46.298   29.003   12.062   2.395   1.242    91.0\n",
            "3      181.123  113.462   47.189   9.368   4.858   356.0\n",
            "4      206.561  129.398   53.817  10.684   5.540   406.0\n",
            "5       73.263   45.895   19.088   3.789   1.965   144.0\n",
            "Total  522.000  327.000  136.000  27.000  14.000  1026.0\n"
          ]
        }
      ]
    },
    {
      "cell_type": "code",
      "source": [
        "#Chi Squared Test Statistic\n",
        "#Note: Eight out of the twenty (40%) expected counts are under 5. Be cautious of the following results.\n",
        "\n",
        "row_num, col_num = two_way_tab2.shape\n",
        "\n",
        "chi_sq_stat = 0\n",
        "for a in range(row_num - 1):\n",
        "  for b in range(col_num - 1):\n",
        "    partial = ((two_way_tab[a, b] - two_way_tab2[a, b])**2)/two_way_tab2[a, b]\n",
        "    chi_sq_stat += partial\n",
        "\n",
        "print(\"The chi-squared statistic for this test is: \" + str(chi_sq_stat))"
      ],
      "metadata": {
        "colab": {
          "base_uri": "https://localhost:8080/"
        },
        "id": "VJqkPkVQsfy5",
        "outputId": "bb0abc31-4bf6-479d-98b8-94a406691d61"
      },
      "execution_count": 108,
      "outputs": [
        {
          "output_type": "stream",
          "name": "stdout",
          "text": [
            "The chi-squared statistic for this test is: 71.8455958459828\n"
          ]
        }
      ]
    },
    {
      "cell_type": "code",
      "source": [
        "#Multiple Bar Charts Representation\n",
        "\n",
        "N = 5\n",
        "ind = np.arange(N) \n",
        "width = 0.15\n",
        "  \n",
        "bar1 = plt.bar(ind, g1, width)  \n",
        "bar2 = plt.bar(ind+width, g2, width)\n",
        "bar3 = plt.bar(ind+width*2, g3, width)\n",
        "bar4 = plt.bar(ind+width*3, g4, width)\n",
        "bar5 = plt.bar(ind+width*4, g5, width)\n",
        "  \n",
        "  \n",
        "plt.xticks(ind+width,['1', '2', '3', '4', '5'])\n",
        "\n",
        "plt.xlabel('Light Exposure (1-5)')\n",
        "plt.ylabel('Frequency within Light Exposure Group')\n",
        "plt.title('Distributions of Sleep Quality Responses (1-5) for Varying Levels of External Light Exposure (1-5)')\n",
        "\n",
        "print(\"Blue: Frequency of '1' responses for sleep quality\") \n",
        "print(\"Orange: Frequency of '2' responses for sleep quality\")\n",
        "print(\"Green: Frequency of '3' responses for sleep quality\") \n",
        "print(\"Red: Frequency of '4' responses for sleep quality\")\n",
        "print(\"Purple: Frequency of '5' responses for sleep quality\") \n",
        "print('')\n",
        "plt.show()\n"
      ],
      "metadata": {
        "colab": {
          "base_uri": "https://localhost:8080/",
          "height": 399
        },
        "id": "mcoBSZ6b9d5M",
        "outputId": "d6affdbc-f2cb-4cd4-95d2-18298c1c9efc"
      },
      "execution_count": 109,
      "outputs": [
        {
          "output_type": "stream",
          "name": "stdout",
          "text": [
            "Blue: Frequency of '1' responses for sleep quality\n",
            "Orange: Frequency of '2' responses for sleep quality\n",
            "Green: Frequency of '3' responses for sleep quality\n",
            "Red: Frequency of '4' responses for sleep quality\n",
            "Purple: Frequency of '5' responses for sleep quality\n",
            "\n"
          ]
        },
        {
          "output_type": "display_data",
          "data": {
            "text/plain": [
              "<Figure size 432x288 with 1 Axes>"
            ],
            "image/png": "[encoded data removed]"
          },
          "metadata": {
            "needs_background": "light"
          }
        }
      ]
    },
    {
      "cell_type": "code",
      "source": [
        "#Ratio of Sleep Time to Time in Bed\n",
        "bed_week = array_sleep[:, 25]\n",
        "bed_weekend = array_sleep[:, 33]\n",
        "\n",
        "for a in range(len(bed_week)):\n",
        "  if isNaN(bed_week[a]) == True:\n",
        "    bed_week[a] = 475.3\n",
        "  if isNaN(bed_weekend[a]) == True:\n",
        "    bed_weekend[a] = 524.25\n",
        "\n",
        "avg_bed = list(np.add(bed_week*5/(60*7), bed_weekend*2/(60*7)))\n",
        "\n",
        "#Make data\n",
        "x = avg_bed\n",
        "\n",
        "#Limits\n",
        "xlow = min(avg_bed)\n",
        "xhigh = max(avg_bed)\n",
        "\n",
        "#Plot:\n",
        "fig, ax = plt.subplots()\n",
        "\n",
        "ax.hist(x, bins=32, linewidth=0.5, edgecolor=\"white\")\n",
        "\n",
        "ax.set(xlim=(0, xhigh))\n",
        "\n",
        "plt.title(\"Distrbution of the Average Time in Bed (hrs) of 1029 Individuals (2015)\")\n",
        "plt.xlabel(\"Hours\")\n",
        "plt.ylabel(\"Frequency\")\n",
        "print(\"Standard Deviation: \" + str(stan_dev(avg_bed)))\n",
        "\n",
        "plt.show()"
      ],
      "metadata": {
        "colab": {
          "base_uri": "https://localhost:8080/",
          "height": 312
        },
        "id": "6WFowfXKZarM",
        "outputId": "6410e126-157d-4124-94f4-c50f0b3842ec"
      },
      "execution_count": 110,
      "outputs": [
        {
          "output_type": "stream",
          "name": "stdout",
          "text": [
            "Standard Deviation: 1.5274188227084846\n"
          ]
        },
        {
          "output_type": "display_data",
          "data": {
            "text/plain": [
              "<Figure size 432x288 with 1 Axes>"
            ],
            "image/png": "[encoded data removed]"
          },
          "metadata": {
            "needs_background": "light"
          }
        }
      ]
    },
    {
      "cell_type": "code",
      "source": [
        "#Ratio of Estimated Actual Sleep Time to Time in Bed\n",
        "ratio_sb = np.divide(avg_total, avg_bed)\n",
        "ratio_sb=list(ratio_sb)\n",
        "\n",
        "#Account for Discrepancy from Estimation\n",
        "for a in range(len(ratio_sb)):\n",
        "  if ratio_sb[a] > 1:\n",
        "    ratio_sb[a] = 1\n",
        "\n",
        "avg1 = []\n",
        "avg2 = []\n",
        "avg3 = []\n",
        "avg4 = []\n",
        "avg5 = []\n",
        "\n",
        "for a in range(len(sleep_quality)):\n",
        "  if sleep_quality[a] == 1:\n",
        "    avg1.append(ratio_sb[a])\n",
        "  if sleep_quality[a] == 2:\n",
        "    avg2.append(ratio_sb[a])\n",
        "  if sleep_quality[a] == 3:\n",
        "    avg3.append(ratio_sb[a])\n",
        "  if sleep_quality[a] == 4:\n",
        "    avg4.append(ratio_sb[a])\n",
        "  if sleep_quality[a] == 5:\n",
        "    avg5.append(ratio_sb[a])\n",
        "\n",
        "#Quantitative v. Categorical\n",
        "# make data:\n",
        "D = np.array([avg1, avg2, avg3, avg4, avg5], dtype=object)\n",
        "labels = [\"1\", \"2\", \"3\", \"4\", \"5\"]\n",
        "\n",
        "# plot\n",
        "fig, ax = plt.subplots()\n",
        "VP = ax.boxplot(D, labels = labels, positions=[2, 4, 6, 8, 10], widths=1.5, patch_artist=True,\n",
        "                showmeans=False, showfliers=False,\n",
        "                medianprops={\"color\": \"white\", \"linewidth\": 0.5},\n",
        "                boxprops={\"facecolor\": \"C1\", \"edgecolor\": \"white\",\n",
        "                          \"linewidth\": 0.5},\n",
        "                whiskerprops={\"color\": \"C1\", \"linewidth\": 1.5},\n",
        "                capprops={\"color\": \"C1\", \"linewidth\": 1.5})\n",
        "plt.xlabel(\"Sleep Quality Score (1-5)\")\n",
        "plt.ylabel(\"Sleep Proportion\")\n",
        "plt.title(\"Distribution of Sleep Proportion for Varying Sleep Quality Scores (1-5) of 1029 Individuals (2015)\")\n",
        "\n",
        "plt.show()"
      ],
      "metadata": {
        "colab": {
          "base_uri": "https://localhost:8080/",
          "height": 295
        },
        "id": "UQBz_iVOarHE",
        "outputId": "55deb1cd-4362-41f6-91be-77926d922bb6"
      },
      "execution_count": 111,
      "outputs": [
        {
          "output_type": "display_data",
          "data": {
            "text/plain": [
              "<Figure size 432x288 with 1 Axes>"
            ],
            "image/png": "[encoded data removed]"
          },
          "metadata": {
            "needs_background": "light"
          }
        }
      ]
    },
    {
      "cell_type": "code",
      "source": [
        "#Chi Squared Test for Independence\n",
        "\n",
        "#Observed Counts\n",
        "r1c1 = []\n",
        "r1c2 = []\n",
        "r1c3 = []\n",
        "r1c4 = []\n",
        "r1c5 = []\n",
        "\n",
        "r2c1 = []\n",
        "r2c2 = []\n",
        "r2c3 = []\n",
        "r2c4 = []\n",
        "r2c5 = []\n",
        "\n",
        "r3c1 = []\n",
        "r3c2 = []\n",
        "r3c3 = []\n",
        "r3c4 = []\n",
        "r3c5 = []\n",
        "\n",
        "r4c1 = []\n",
        "r4c2 = []\n",
        "r4c3 = []\n",
        "r4c4 = []\n",
        "r4c5 = []\n",
        "\n",
        "row1 = [r1c1, r1c2, r1c3, r1c4, r1c5]\n",
        "row2 = [r2c1, r2c2, r2c3, r2c4, r2c5]\n",
        "row3 = [r3c1, r3c2, r3c3, r3c4, r3c5]\n",
        "row4 = [r4c1, r4c2, r4c3, r4c4, r4c5]\n",
        "\n",
        "for a in range(len(ratio_sb)):\n",
        "  for b in range(len(row1)):\n",
        "    if ratio_sb[a] < 0.6 and sleep_quality[a] == b+1:\n",
        "      row1[b].append(a)\n",
        "    if 0.6 <= ratio_sb[a] < 0.7 and sleep_quality[a] == b+1:\n",
        "      row2[b].append(a)\n",
        "    if 0.7 <= ratio_sb[a] < 0.8 and sleep_quality[a] == b+1:\n",
        "      row3[b].append(a)\n",
        "    if 0.8 <= ratio_sb[a] and sleep_quality[a] == b+1:\n",
        "      row4[b].append(a)\n",
        "\n",
        "for a in range(len(row1)):\n",
        "  row1[a] = len(row1[a])\n",
        "  row2[a] = len(row2[a])\n",
        "  row3[a] = len(row3[a])\n",
        "  row4[a] = len(row4[a])\n",
        "\n",
        "two_way_tab = np.array([row1, row2, row3, row4])\n",
        "\n",
        "row_sums = np.array([[sum(row1)], [sum(row2)], [sum(row3)], [sum(row4)], [1029]])\n",
        "\n",
        "column_sums = np.array([np.add(np.add(np.add(np.array(row1), np.array(row2)), np.array(row3)), np.array(row4))])\n",
        "two_way_tab = np.append(two_way_tab, column_sums, axis=0)\n",
        "two_way_tab = np.append(two_way_tab, row_sums, axis=1)\n",
        "\n",
        "two_way_df = pd.DataFrame(two_way_tab)\n",
        "two_way_df.columns = [\"1\", \"2\", \"3\", \"4\", \"5\", \"Total\"]\n",
        "two_way_df.index = [\"<6 hrs\", \"6-7 hrs\", \"7-8 hrs\", \"8+ hours\", \"Total\"]\n",
        "\n",
        "print(\"Observed Counts for Relative Frequency of Sleep Quality (1-5) vs. Sleep Proportion\")\n",
        "print(two_way_df)\n",
        "\n",
        "#Expected Counts\n",
        "two_way_tab2 = np.empty((4, 5), float)\n",
        "\n",
        "row_sums_list = [sum(row1), sum(row2), sum(row3), sum(row4)]\n",
        "column_sums_list = list(two_way_tab[4, 0:5])\n",
        "\n",
        "for a in range(len(row_sums_list)):\n",
        "  for b in range(len(column_sums_list)):\n",
        "    two_way_tab2[a, b] = float(two_way_tab2[a, b])\n",
        "    two_way_tab2[a, b] = np.around(float(row_sums_list[a]*column_sums_list[b]/1029), 3)\n",
        "\n",
        "two_way_tab2 = np.append(two_way_tab2, column_sums, axis=0)\n",
        "two_way_tab2 = np.append(two_way_tab2, row_sums, axis=1)\n",
        "\n",
        "two_way_dfE = pd.DataFrame(two_way_tab2)\n",
        "two_way_dfE.columns = [\"1\", \"2\", \"3\", \"4\", \"5\", \"Total\"]\n",
        "two_way_dfE.index = [\"<0.6\", \"0.6-0.7\", \"0.7-0.8\", \"0.8+\", \"Total\"]\n",
        "\n",
        "print(\"\")\n",
        "print(\"Expected Counts for Relative Frequency of Sleep Quality (1-5) vs. Sleep Proportion\")\n",
        "print(two_way_dfE)"
      ],
      "metadata": {
        "colab": {
          "base_uri": "https://localhost:8080/"
        },
        "id": "ZgKyu7HdeqUN",
        "outputId": "ec48c24a-3e31-49e4-ece8-e91dc9237b6c"
      },
      "execution_count": 112,
      "outputs": [
        {
          "output_type": "stream",
          "name": "stdout",
          "text": [
            "Observed Counts for Relative Frequency of Sleep Quality (1-5) vs. Sleep Proportion\n",
            "           1   2    3    4    5  Total\n",
            "<6 hrs     5  10   12   10    3     40\n",
            "6-7 hrs    4  10   28   12    2     56\n",
            "7-8 hrs    8  20   78   35    4    145\n",
            "8+ hours  12  51  240  349  136    788\n",
            "Total     29  91  358  406  145   1029\n",
            "\n",
            "Expected Counts for Relative Frequency of Sleep Quality (1-5) vs. Sleep Proportion\n",
            "              1       2        3        4        5   Total\n",
            "<0.6      1.127   3.537   13.916   15.782    5.637    40.0\n",
            "0.6-0.7   1.578   4.952   19.483   22.095    7.891    56.0\n",
            "0.7-0.8   4.086  12.823   50.447   57.211   20.432   145.0\n",
            "0.8+     22.208  69.687  274.154  310.912  111.040   788.0\n",
            "Total    29.000  91.000  358.000  406.000  145.000  1029.0\n"
          ]
        }
      ]
    },
    {
      "cell_type": "code",
      "source": [
        "#Chi Squared Test Statistic\n",
        "#Note: Four out of the twenty (20%) expected counts are under 5. For general purposes, the chi quared test will be continued, but we should be cautious of the results.\n",
        "\n",
        "row_num, col_num = two_way_tab2.shape\n",
        "\n",
        "chi_sq_stat = 0\n",
        "for a in range(row_num - 1):\n",
        "  for b in range(col_num - 1):\n",
        "    partial = ((two_way_tab[a, b] - two_way_tab2[a, b])**2)/two_way_tab2[a, b]\n",
        "    chi_sq_stat += partial\n",
        "\n",
        "print(\"The chi-squared statistic for this test is: \" + str(chi_sq_stat))"
      ],
      "metadata": {
        "colab": {
          "base_uri": "https://localhost:8080/"
        },
        "id": "kjuC2RibgNNN",
        "outputId": "48a2af86-12af-419e-91b1-e836eeb332ed"
      },
      "execution_count": 113,
      "outputs": [
        {
          "output_type": "stream",
          "name": "stdout",
          "text": [
            "The chi-squared statistic for this test is: 119.219445429627\n"
          ]
        }
      ]
    },
    {
      "cell_type": "code",
      "source": [
        "#Relationship Between Actual Sleep Time (hrs) and Sleep Proportion\n",
        "outpr = reg(ratio_sb, avg_total)\n",
        "r, a, b = outpr[2], outpr[3], outpr[4]\n",
        "x = np.linspace(0.1, 1, 100)\n",
        "y = a + b*x\n",
        "plt.scatter(ratio_sb, avg_total, s=1.5, alpha=1)\n",
        "plt.plot(x, y, color = 'black')\n",
        "plt.xlabel(\"Sleep Proportion\")\n",
        "plt.ylabel('Actual Sleep Time (hrs)')\n",
        "plt.title('Relationship Between Actual Seep Time (hrs) and Sleep Proportion')\n",
        "\n",
        "print(\"LSRL: y = \" + str(a) + \" + \" + str(b) + \"x\")\n",
        "print(\"r = \" + str(r))\n",
        "print(\"Sx: \" + str(outpr[0]))\n",
        "print(\"Sy: \" + str(outpr[1]))\n",
        "plt.show()"
      ],
      "metadata": {
        "colab": {
          "base_uri": "https://localhost:8080/",
          "height": 364
        },
        "id": "p_vXiYmggZRq",
        "outputId": "b713b2cc-9b4c-4d22-dbd0-77dc654002b0"
      },
      "execution_count": 114,
      "outputs": [
        {
          "output_type": "stream",
          "name": "stdout",
          "text": [
            "LSRL: y = 2.477111181612429 + 5.262424688649582x\n",
            "r = 0.5288522318690922\n",
            "Sx: 0.1265597257047017\n",
            "Sy: 1.2593518283610086\n"
          ]
        },
        {
          "output_type": "display_data",
          "data": {
            "text/plain": [
              "<Figure size 432x288 with 1 Axes>"
            ],
            "image/png": "[encoded data removed]"
          },
          "metadata": {
            "needs_background": "light"
          }
        }
      ]
    },
    {
      "cell_type": "code",
      "source": [
        "#Residual Plot\n",
        "outpr = reg(ratio_sb, avg_total)\n",
        "r, a, b = outpr[2], outpr[3], outpr[4]\n",
        "\n",
        "resids = []\n",
        "for l in range(len(ratio_sb)):\n",
        "  calc = avg_total[l] - (a+b*ratio_sb[l])\n",
        "  resids.append(calc)\n",
        "\n",
        "x = np.linspace(0.1, 1, 100)\n",
        "y = 0*x\n",
        "\n",
        "plt.scatter(ratio_sb, resids, s=1.5, alpha=1)\n",
        "plt.plot(x, y, color = 'black')\n",
        "plt.xlabel(\"Sleep Proportion\")\n",
        "plt.ylabel('Residual')\n",
        "plt.title('Residual Plot for LSRL Relating Actual Seep Time (hrs) to X = Sleep Proportion')\n",
        "plt.show()\n",
        "\n"
      ],
      "metadata": {
        "colab": {
          "base_uri": "https://localhost:8080/",
          "height": 295
        },
        "id": "zk3wFSkDiWmg",
        "outputId": "9a360ffa-4f1f-4342-b744-488255690e86"
      },
      "execution_count": 115,
      "outputs": [
        {
          "output_type": "display_data",
          "data": {
            "text/plain": [
              "<Figure size 432x288 with 1 Axes>"
            ],
            "image/png": "[encoded data removed]"
          },
          "metadata": {
            "needs_background": "light"
          }
        }
      ]
    }
  ]
}